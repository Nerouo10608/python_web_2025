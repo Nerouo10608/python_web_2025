{
 "cells": [
  {
   "cell_type": "code",
   "execution_count": 6,
   "id": "d1766c70",
   "metadata": {},
   "outputs": [],
   "source": [
    "# *args可變長度參數\n",
    "# todo:計算總和的function\n",
    "# 參數: *args\n",
    "# return: 總和\n",
    "\n",
    "def sum_all(*args):\n",
    "    print(args) # args會是一個tuple\n",
    "    total = 0\n",
    "    for num in args:\n",
    "        total += num\n",
    "    return total"
   ]
  },
  {
   "cell_type": "code",
   "execution_count": 7,
   "id": "0b3bfb9f",
   "metadata": {},
   "outputs": [
    {
     "name": "stdout",
     "output_type": "stream",
     "text": [
      "()\n",
      "(1, 2, 3, 4, 5)\n",
      "(10, 20, 30)\n"
     ]
    },
    {
     "data": {
      "text/plain": [
       "60"
      ]
     },
     "execution_count": 7,
     "metadata": {},
     "output_type": "execute_result"
    }
   ],
   "source": [
    "sum_all()\n",
    "sum_all(1, 2, 3, 4, 5)\n",
    "sum_all(10, 20, 30)\n"
   ]
  },
  {
   "cell_type": "code",
   "execution_count": 8,
   "id": "e2c7aa9f",
   "metadata": {},
   "outputs": [],
   "source": [
    "# **kwargs可變長度關鍵字參數\n",
    "# todo: 自訂function\n",
    "# 名稱: create_studend_info\n",
    "# 參數: **kwargs\n",
    "# return(dict): student_info\n",
    "\n",
    "def create_student_info(**kwargs):\n",
    "    print(kwargs) # kwargs會是一個dict\n",
    "    student_info = {}\n",
    "    for key, value in kwargs.items():\n",
    "        student_info[key] = value\n",
    "    return student_info"
   ]
  },
  {
   "cell_type": "code",
   "execution_count": 9,
   "id": "99559e2b",
   "metadata": {},
   "outputs": [
    {
     "name": "stdout",
     "output_type": "stream",
     "text": [
      "{'name': 'Nerouo', 'age': 30, 'city': 'Taipei'}\n",
      "{'name': 'Alice', 'age': 25, 'city': 'New York', 'major': 'Computer Science'}\n",
      "{'name': 'Bob', 'age': 22}\n"
     ]
    },
    {
     "data": {
      "text/plain": [
       "{'name': 'Bob', 'age': 22}"
      ]
     },
     "execution_count": 9,
     "metadata": {},
     "output_type": "execute_result"
    }
   ],
   "source": [
    "create_student_info(name=\"Nerouo\", age=30, city=\"Taipei\")\n",
    "create_student_info(name=\"Alice\", age=25, city=\"New York\", major=\"Computer Science\")\n",
    "create_student_info(name=\"Bob\", age=22)"
   ]
  },
  {
   "cell_type": "code",
   "execution_count": 10,
   "id": "6c6d3b44",
   "metadata": {},
   "outputs": [
    {
     "name": "stdout",
     "output_type": "stream",
     "text": [
      "密碼強度檢查\n",
      "\n",
      "--- IGNORE ---\n"
     ]
    }
   ],
   "source": [
    "print(\"密碼強度檢查\")\n",
    "print()\n",
    "print(\"--- IGNORE ---\")"
   ]
  },
  {
   "cell_type": "code",
   "execution_count": 13,
   "id": "7aaa8c3b",
   "metadata": {},
   "outputs": [
    {
     "name": "stdout",
     "output_type": "stream",
     "text": [
      "a-b-c END\n"
     ]
    }
   ],
   "source": [
    "print(\"a\", \"b\", \"c\", sep=\"-\", end= \" END\\n\")"
   ]
  }
 ],
 "metadata": {
  "kernelspec": {
   "display_name": "python_web_2025",
   "language": "python",
   "name": "python3"
  },
  "language_info": {
   "codemirror_mode": {
    "name": "ipython",
    "version": 3
   },
   "file_extension": ".py",
   "mimetype": "text/x-python",
   "name": "python",
   "nbconvert_exporter": "python",
   "pygments_lexer": "ipython3",
   "version": "3.10.18"
  }
 },
 "nbformat": 4,
 "nbformat_minor": 5
}
