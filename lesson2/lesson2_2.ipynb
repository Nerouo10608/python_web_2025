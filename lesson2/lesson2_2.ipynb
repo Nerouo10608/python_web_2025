{
 "cells": [
  {
   "cell_type": "code",
   "execution_count": 6,
   "id": "4cbd667e",
   "metadata": {},
   "outputs": [
    {
     "name": "stdout",
     "output_type": "stream",
     "text": [
      "Hello! Python!\n"
     ]
    }
   ],
   "source": [
    "print(\"Hello! Python!\")"
   ]
  },
  {
   "cell_type": "code",
   "execution_count": 7,
   "id": "17de18d4",
   "metadata": {},
   "outputs": [
    {
     "name": "stdout",
     "output_type": "stream",
     "text": [
      "    *    \n",
      "   ***   \n",
      "  *****  \n",
      " ******* \n",
      "*********\n",
      "   ***   \n",
      "   ***   \n"
     ]
    }
   ],
   "source": [
    "# 定義一個沒有參數,沒有傳出值的function\n",
    "# todo: 建立一個可以使用print()畫出聖誕樹的function\n",
    "# 必需要有說明docstring\n",
    "\n",
    "def draw_christmas_tree():\n",
    "    \"\"\"\n",
    "    畫出一棵聖誕樹\n",
    "    \"\"\"\n",
    "    print(\"    *    \")\n",
    "    print(\"   ***   \")\n",
    "    print(\"  *****  \")\n",
    "    print(\" ******* \")\n",
    "    print(\"*********\")\n",
    "    print(\"   ***   \")\n",
    "    print(\"   ***   \")\n",
    "\n",
    "# 呼叫函數\n",
    "draw_christmas_tree()"
   ]
  },
  {
   "cell_type": "code",
   "execution_count": null,
   "id": "f16a5eee",
   "metadata": {},
   "outputs": [],
   "source": [
    "# 自訂的function,有參數,有傳出值\n",
    "# todo:建立一個簡單問候語函數\n",
    "# 名稱:greet_person(snake_case)\n",
    "# 參數:name, greeting, greeting有預設值\n",
    "def greet_person(name, greeting=\"Hello\"):\n",
    "    \"\"\"\n",
    "    傳回一個問候語\n",
    "    :param name: 被問候的人\n",
    "    :param greeting: 問候語,預設值是Hello\n",
    "    :return: 完整的問候語\n",
    "    \"\"\"\n",
    "    return f\"{greeting}, {name}!\""
   ]
  },
  {
   "cell_type": "code",
   "execution_count": 10,
   "id": "cf6119a5",
   "metadata": {},
   "outputs": [
    {
     "name": "stdout",
     "output_type": "stream",
     "text": [
      "Help on function greet_person in module __main__:\n",
      "\n",
      "greet_person(name: str, greeting: str = 'Hello')\n",
      "    傳回一個問候語\n",
      "    :param name: 被問候的人\n",
      "    :param greeting: 問候語,預設值是Hello\n",
      "    :return: 完整的問候語\n",
      "\n"
     ]
    }
   ],
   "source": [
    "help(greet_person)"
   ]
  },
  {
   "cell_type": "code",
   "execution_count": 11,
   "id": "1dd19932",
   "metadata": {},
   "outputs": [
    {
     "data": {
      "text/plain": [
       "'Hello, Nerouo!'"
      ]
     },
     "execution_count": 11,
     "metadata": {},
     "output_type": "execute_result"
    }
   ],
   "source": [
    "# 使用最小的引數值呼叫\n",
    "greet_person(\"Nerouo\")"
   ]
  },
  {
   "cell_type": "code",
   "execution_count": 12,
   "id": "5d4b7865",
   "metadata": {},
   "outputs": [
    {
     "data": {
      "text/plain": [
       "'How are you doing?, Nerouo!'"
      ]
     },
     "execution_count": 12,
     "metadata": {},
     "output_type": "execute_result"
    }
   ],
   "source": [
    "# greeting,不要使用預設值\n",
    "greet_person(\"Nerouo\", greeting = \"How are you doing?\")"
   ]
  },
  {
   "cell_type": "code",
   "execution_count": null,
   "id": "7362e1fa",
   "metadata": {},
   "outputs": [],
   "source": [
    "# todo: 建立一個BMI計算機\n",
    "# calculate_bmi\n",
    "# 參數: weight, height\n",
    "# 傳出值(tuple): (bmi, status)\n",
    "def calculate_bmi(weight:float, height:float) -> tuple:\n",
    "    \"\"\"\n",
    "    計算BMI值\n",
    "    :param weight: 體重(公斤)\n",
    "    :param height: 身高(公尺)\n",
    "    :return: (bmi, status)\n",
    "    \"\"\"\n",
    "    bmi = weight / (height ** 2)\n",
    "    if bmi < 18.5:\n",
    "        status = \"過輕\"\n",
    "    elif 18.5 <= bmi < 24:\n",
    "        status = \"正常\"\n",
    "    elif 24 <= bmi < 27:\n",
    "        status = \"過重\"\n",
    "    elif 27 <= bmi < 30:\n",
    "        status = \"輕度肥胖\"\n",
    "    elif 30 <= bmi < 35:\n",
    "        status = \"中度肥胖\"\n",
    "    else:\n",
    "        status = \"重度肥胖\"\n",
    "    return (bmi, status)"
   ]
  },
  {
   "cell_type": "code",
   "execution_count": 17,
   "id": "828c7106",
   "metadata": {},
   "outputs": [
    {
     "name": "stdout",
     "output_type": "stream",
     "text": [
      "您的BMI值是22.86, 狀態是正常\n"
     ]
    }
   ],
   "source": [
    "# tuple 的拆解法\n",
    "bmi, status = calculate_bmi(70, 1.75)\n",
    "print(f\"您的BMI值是{bmi:.2f}, 狀態是{status}\")"
   ]
  },
  {
   "cell_type": "code",
   "execution_count": 18,
   "id": "165c1129",
   "metadata": {},
   "outputs": [],
   "source": [
    "# todo: 自訂一個密碼驗證器\n",
    "# 參數(str): password\n",
    "# 功能: \n",
    "#     - 最少需要8個字元\n",
    "#     - 如果有數字,有大寫字元,有小寫字元,傳出**密碼強度:強**\n",
    "#     - 如果不是強,傳出**密碼牆物:中等或弱**\n",
    "def validate_password(password: str) -> str:\n",
    "    \"\"\"\n",
    "    密碼驗證器\n",
    "    :param password: 使用者輸入的密碼\n",
    "    :return: 密碼強度: 強, 中等, 弱\n",
    "    \"\"\"\n",
    "    # 提早離開function\n",
    "    if len(password) < 8:\n",
    "        return \"密碼強度: 弱 (長度不足8個字元)\"\n",
    "    \n",
    "    has_upper = any(c.isupper() for c in password)\n",
    "    has_lower = any(c.islower() for c in password)\n",
    "    has_digit = any(c.isdigit() for c in password)\n",
    "\n",
    "    if has_upper and has_lower and has_digit:\n",
    "        return \"密碼強度: 強\"\n",
    "    else:\n",
    "        return \"密碼強度: 中等\""
   ]
  },
  {
   "cell_type": "code",
   "execution_count": 23,
   "id": "69793464",
   "metadata": {},
   "outputs": [
    {
     "data": {
      "text/plain": [
       "11"
      ]
     },
     "execution_count": 23,
     "metadata": {},
     "output_type": "execute_result"
    }
   ],
   "source": [
    "password = \"password123\"\n",
    "len(password)"
   ]
  },
  {
   "cell_type": "code",
   "execution_count": 24,
   "id": "e5680acc",
   "metadata": {},
   "outputs": [
    {
     "data": {
      "text/plain": [
       "(False, True, True)"
      ]
     },
     "execution_count": 24,
     "metadata": {},
     "output_type": "execute_result"
    }
   ],
   "source": [
    "has_upper = any(c.isupper() for c in password)\n",
    "has_lower = any(c.islower() for c in password)\n",
    "has_digit = any(c.isdigit() for c in password)\n",
    "\n",
    "(has_upper, has_lower, has_digit)"
   ]
  },
  {
   "cell_type": "code",
   "execution_count": 26,
   "id": "27fb3bf8",
   "metadata": {},
   "outputs": [
    {
     "name": "stdout",
     "output_type": "stream",
     "text": [
      "密碼強度: 弱 (長度不足8個字元)\n",
      "密碼強度: 中等\n",
      "密碼強度: 強\n"
     ]
    }
   ],
   "source": [
    "print(validate_password(\"abc\"))\n",
    "print(validate_password(\"abcqhrewhe\"))\n",
    "print(validate_password(\"Abc12345\"))"
   ]
  }
 ],
 "metadata": {
  "kernelspec": {
   "display_name": "python_web_2025",
   "language": "python",
   "name": "python3"
  },
  "language_info": {
   "codemirror_mode": {
    "name": "ipython",
    "version": 3
   },
   "file_extension": ".py",
   "mimetype": "text/x-python",
   "name": "python",
   "nbconvert_exporter": "python",
   "pygments_lexer": "ipython3",
   "version": "3.10.18"
  }
 },
 "nbformat": 4,
 "nbformat_minor": 5
}
