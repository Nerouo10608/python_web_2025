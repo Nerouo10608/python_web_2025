{
 "cells": [
  {
   "cell_type": "code",
   "execution_count": 1,
   "id": "c044c2e4",
   "metadata": {},
   "outputs": [],
   "source": [
    "# 定義類別\n",
    "\n",
    "class Car():\n",
    "    pass"
   ]
  },
  {
   "cell_type": "code",
   "execution_count": 2,
   "id": "2816d3d3",
   "metadata": {},
   "outputs": [
    {
     "data": {
      "text/plain": [
       "__main__.Car"
      ]
     },
     "execution_count": 2,
     "metadata": {},
     "output_type": "execute_result"
    }
   ],
   "source": [
    "car1 = Car()\n",
    "type(car1)"
   ]
  }
 ],
 "metadata": {
  "kernelspec": {
   "display_name": "python_web_2025",
   "language": "python",
   "name": "python3"
  },
  "language_info": {
   "codemirror_mode": {
    "name": "ipython",
    "version": 3
   },
   "file_extension": ".py",
   "mimetype": "text/x-python",
   "name": "python",
   "nbconvert_exporter": "python",
   "pygments_lexer": "ipython3",
   "version": "3.10.18"
  }
 },
 "nbformat": 4,
 "nbformat_minor": 5
}
