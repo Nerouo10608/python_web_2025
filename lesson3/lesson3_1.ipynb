{
 "cells": [
  {
   "cell_type": "code",
   "execution_count": 11,
   "id": "4f5cae95",
   "metadata": {},
   "outputs": [],
   "source": [
    "class Person:\n",
    "    def __init__(self, name): # 自訂的初始化\n",
    "        self.name = name # attribute\n",
    "    \n",
    "    def greeting(self): # 自訂的實體方法\n",
    "        print(f\"您好:{self.name}\")\n"
   ]
  },
  {
   "cell_type": "code",
   "execution_count": 9,
   "id": "0af44b7c",
   "metadata": {},
   "outputs": [
    {
     "name": "stdout",
     "output_type": "stream",
     "text": [
      "您好:Steven\n",
      "您好:Nero\n"
     ]
    }
   ],
   "source": [
    "p1:Person = Person(\"Steven\")\n",
    "p1.greeting()\n",
    "\n",
    "p2:Person = Person(\"Nero\")\n",
    "p2.greeting()"
   ]
  },
  {
   "cell_type": "code",
   "execution_count": 31,
   "id": "0f910f7f",
   "metadata": {},
   "outputs": [],
   "source": [
    "# 繼承(Person為父類別，Student為子類別)\n",
    "# Student有Person的所有功能\n",
    "class Student(Person):\n",
    "    def __init__(self, name, chinese, english, math):\n",
    "        super().__init__(name)\n",
    "        self.__chinese = chinese\n",
    "        self.__english = english\n",
    "        self.__math = math\n",
    "\n",
    "    @property # decorator\n",
    "    def chinese(self):\n",
    "        return self.__chinese\n",
    "    \n",
    "    @property\n",
    "    def english(self):\n",
    "        return self.__english\n",
    "    \n",
    "    @property\n",
    "    def math(self):\n",
    "        return self.__math\n",
    "\n",
    "    def greeting(self): # overwrite(覆寫)父類別的實體方法\n",
    "        super().greeting() # 執行父類別的greeting\n",
    "        print(f\"您好:我是學生{self.name}\")\n",
    "\n",
    "    def total(self): # method,自訂的實體方法\n",
    "        return self.chinese + self.english + self.math\n",
    "    \n",
    "    def average(self):\n",
    "        return self.total() / 3.0\n",
    "    \n",
    "    def __repr__(self):\n",
    "        return f\"\"\"\n",
    "        我是一個學生\n",
    "        我的名字是{self.name}\n",
    "        我的總分是{self.total()}\n",
    "        我的平均是{self.average()}\n",
    "        \"\"\""
   ]
  },
  {
   "cell_type": "code",
   "execution_count": 33,
   "id": "c3646239",
   "metadata": {},
   "outputs": [
    {
     "name": "stdout",
     "output_type": "stream",
     "text": [
      "Kelvin\n",
      "國文分數:79\n",
      "英文分數:87\n",
      "數學分數:67\n",
      "總分:233\n",
      "平均:77.7\n",
      "您好:Kelvin\n",
      "您好:我是學生Kelvin\n"
     ]
    }
   ],
   "source": [
    "s1 = Student(\"Kelvin\", english = 87, math = 67, chinese = 79) # 引數呼叫可以不用依照順序\n",
    "print(s1.name)\n",
    "print(f\"國文分數:{s1.chinese}\")\n",
    "print(f\"英文分數:{s1.english}\")\n",
    "print(f\"數學分數:{s1.math}\")\n",
    "print(f\"總分:{s1.total()}\")\n",
    "print(f\"平均:{s1.average():.1f}\")\n",
    "s1.greeting()"
   ]
  },
  {
   "cell_type": "code",
   "execution_count": 34,
   "id": "d37356d3",
   "metadata": {},
   "outputs": [
    {
     "name": "stdout",
     "output_type": "stream",
     "text": [
      "\n",
      "        我是一個學生\n",
      "        我的名字是Kelvin\n",
      "        我的總分是233\n",
      "        我的平均是77.66666666666667\n",
      "        \n"
     ]
    }
   ],
   "source": [
    "print(s1)"
   ]
  }
 ],
 "metadata": {
  "kernelspec": {
   "display_name": "python_web_2025",
   "language": "python",
   "name": "python3"
  },
  "language_info": {
   "codemirror_mode": {
    "name": "ipython",
    "version": 3
   },
   "file_extension": ".py",
   "mimetype": "text/x-python",
   "name": "python",
   "nbconvert_exporter": "python",
   "pygments_lexer": "ipython3",
   "version": "3.10.18"
  }
 },
 "nbformat": 4,
 "nbformat_minor": 5
}
