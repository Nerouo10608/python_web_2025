{
 "cells": [
  {
   "cell_type": "code",
   "execution_count": null,
   "id": "4f5cae95",
   "metadata": {},
   "outputs": [],
   "source": [
    "class Person:\n",
    "    def __init__(self, name):\n",
    "        self.name = name # attribute\n"
   ]
  },
  {
   "cell_type": "code",
   "execution_count": null,
   "id": "0af44b7c",
   "metadata": {},
   "outputs": [
    {
     "name": "stdout",
     "output_type": "stream",
     "text": [
      "Steven\n",
      "Nero\n"
     ]
    }
   ],
   "source": [
    "p1:Person = Person(\"Steven\")\n",
    "print(p1.name)\n",
    "\n",
    "p2:Person = Person(\"Nero\")\n",
    "print(p2.name)"
   ]
  }
 ],
 "metadata": {
  "kernelspec": {
   "display_name": "python_web_2025",
   "language": "python",
   "name": "python3"
  },
  "language_info": {
   "codemirror_mode": {
    "name": "ipython",
    "version": 3
   },
   "file_extension": ".py",
   "mimetype": "text/x-python",
   "name": "python",
   "nbconvert_exporter": "python",
   "pygments_lexer": "ipython3",
   "version": "3.10.18"
  }
 },
 "nbformat": 4,
 "nbformat_minor": 5
}
