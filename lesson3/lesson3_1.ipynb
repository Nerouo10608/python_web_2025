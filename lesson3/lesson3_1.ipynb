{
 "cells": [
  {
   "cell_type": "code",
   "execution_count": 11,
   "id": "4f5cae95",
   "metadata": {},
   "outputs": [],
   "source": [
    "class Person:\n",
    "    def __init__(self, name): # 自訂的初始化\n",
    "        self.name = name # attribute\n",
    "    \n",
    "    def greeting(self): # 自訂的實體方法\n",
    "        print(f\"您好:{self.name}\")\n"
   ]
  },
  {
   "cell_type": "code",
   "execution_count": 9,
   "id": "0af44b7c",
   "metadata": {},
   "outputs": [
    {
     "name": "stdout",
     "output_type": "stream",
     "text": [
      "您好:Steven\n",
      "您好:Nero\n"
     ]
    }
   ],
   "source": [
    "p1:Person = Person(\"Steven\")\n",
    "p1.greeting()\n",
    "\n",
    "p2:Person = Person(\"Nero\")\n",
    "p2.greeting()"
   ]
  },
  {
   "cell_type": "code",
   "execution_count": 18,
   "id": "0f910f7f",
   "metadata": {},
   "outputs": [],
   "source": [
    "# 繼承(Person為父類別，Student為子類別)\n",
    "# Student有Person的所有功能\n",
    "class Student(Person):\n",
    "    def greeting(self): # overwrite(覆寫)父類別的實體方法\n",
    "        super().greeting() # 執行父類別的greeting\n",
    "        print(f\"您好:我是學生{self.name}\")"
   ]
  },
  {
   "cell_type": "code",
   "execution_count": 19,
   "id": "c3646239",
   "metadata": {},
   "outputs": [
    {
     "name": "stdout",
     "output_type": "stream",
     "text": [
      "Kelvin\n",
      "您好:Kelvin\n",
      "您好:我是學生Kelvin\n"
     ]
    }
   ],
   "source": [
    "s1 = Student(\"Kelvin\")\n",
    "print(s1.name)\n",
    "s1.greeting()"
   ]
  }
 ],
 "metadata": {
  "kernelspec": {
   "display_name": "python_web_2025",
   "language": "python",
   "name": "python3"
  },
  "language_info": {
   "codemirror_mode": {
    "name": "ipython",
    "version": 3
   },
   "file_extension": ".py",
   "mimetype": "text/x-python",
   "name": "python",
   "nbconvert_exporter": "python",
   "pygments_lexer": "ipython3",
   "version": "3.10.18"
  }
 },
 "nbformat": 4,
 "nbformat_minor": 5
}
