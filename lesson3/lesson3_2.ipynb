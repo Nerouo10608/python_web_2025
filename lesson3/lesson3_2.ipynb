{
 "cells": [
  {
   "cell_type": "code",
   "execution_count": null,
   "id": "e4393697",
   "metadata": {},
   "outputs": [],
   "source": [
    "def sum(*args): #文件內自訂的function\n",
    "    total = 0\n",
    "    for value in args:\n",
    "        total += value\n",
    "    return total"
   ]
  },
  {
   "cell_type": "code",
   "execution_count": 7,
   "id": "1c3e7c6b",
   "metadata": {},
   "outputs": [
    {
     "data": {
      "text/plain": [
       "55"
      ]
     },
     "execution_count": 7,
     "metadata": {},
     "output_type": "execute_result"
    }
   ],
   "source": [
    "sum(1,2,3,4,5,6,7,8,9,10)"
   ]
  },
  {
   "cell_type": "code",
   "execution_count": 9,
   "id": "e2520d9a",
   "metadata": {},
   "outputs": [],
   "source": [
    "class Tools:\n",
    "    @staticmethod\n",
    "    def sum(*args):\n",
    "        total = 0\n",
    "        for value in args:\n",
    "            total += value\n",
    "        return total\n",
    "    \n",
    "    @classmethod\n",
    "    def sum1(cls, *args):\n",
    "        total = 0\n",
    "        for value in args:\n",
    "            total += value\n",
    "        return total"
   ]
  },
  {
   "cell_type": "code",
   "execution_count": null,
   "id": "e1435a92",
   "metadata": {},
   "outputs": [
    {
     "name": "stdout",
     "output_type": "stream",
     "text": [
      "55\n",
      "55\n"
     ]
    }
   ],
   "source": [
    "Tools.sum(1,2,3,4,5,6,7,8,9,10)\n",
    "Tools.sum1(1,2,3,4,5,6,7,8,9,10)"
   ]
  }
 ],
 "metadata": {
  "kernelspec": {
   "display_name": "python_web_2025",
   "language": "python",
   "name": "python3"
  },
  "language_info": {
   "codemirror_mode": {
    "name": "ipython",
    "version": 3
   },
   "file_extension": ".py",
   "mimetype": "text/x-python",
   "name": "python",
   "nbconvert_exporter": "python",
   "pygments_lexer": "ipython3",
   "version": "3.10.18"
  }
 },
 "nbformat": 4,
 "nbformat_minor": 5
}
