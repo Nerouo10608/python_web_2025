{
 "cells": [
  {
   "cell_type": "code",
   "execution_count": 6,
   "id": "4ed8ccab",
   "metadata": {},
   "outputs": [
    {
     "name": "stdout",
     "output_type": "stream",
     "text": [
      "出現錯誤,錯誤是:名字錯誤\n"
     ]
    }
   ],
   "source": [
    "try:    \n",
    "    raise NameError(\"名字錯誤\")\n",
    "    print(\"Hello\")\n",
    "except Exception as e:\n",
    "    print(f\"出現錯誤,錯誤是:{e}\")\n",
    "else:\n",
    "    print(\"沒有錯誤\")"
   ]
  },
  {
   "cell_type": "markdown",
   "id": "c29c19b3",
   "metadata": {},
   "source": []
  }
 ],
 "metadata": {
  "kernelspec": {
   "display_name": "python_web_2025",
   "language": "python",
   "name": "python3"
  },
  "language_info": {
   "codemirror_mode": {
    "name": "ipython",
    "version": 3
   },
   "file_extension": ".py",
   "mimetype": "text/x-python",
   "name": "python",
   "nbconvert_exporter": "python",
   "pygments_lexer": "ipython3",
   "version": "3.10.18"
  }
 },
 "nbformat": 4,
 "nbformat_minor": 5
}
