{
 "cells": [
  {
   "cell_type": "markdown",
   "id": "f8c8377c",
   "metadata": {},
   "source": [
    "1. 均方誤差 (MSE, Mean Squared Error)\n",
    "- 公式： $MSE = \\frac{1}{n}\\sum(y - \\hat{y})^2$  \n",
    "- 定義： 誤差平方的平均值。  \n",
    "- 單位： $單位^2$。  \n",
    "- 懲罰： 強烈懲罰較大的錯誤 (Outliers)。  \n",
    "- 用途： 常用作模型訓練時的損失函數 (Loss Function)。  \n",
    "- 理想值： 越小越好 (最佳為 0)。  \n",
    "\n",
    "2. 均方根誤差 (RMSE, Root Mean Squared Error)\n",
    "- 公式： $RMSE = \\sqrt{MSE} = \\sqrt{\\frac{1}{n}\\sum(y - \\hat{y})^2}$\n",
    "- 定義： $MSE$ 的平方根。\n",
    "- 單位： 與 $y$ 單位相同 (最易於解釋)。\n",
    "- 懲罰： 懲罰較大的錯誤，但比 $MSE$ 緩和。\n",
    "- 用途： 常用於最終報告，提供直觀的「平均誤差」大小。\n",
    "- 理想值： 越小越好 (最佳為 0)。\n",
    "\n",
    "3. 決定係數 ($R^2$, R-squared)\n",
    "- 公式： $R^2 = 1 - \\frac{\\sum(y - \\hat{y})^2}{\\sum(y - \\bar{y})^2}$\n",
    "- 定義： 模型解釋的方差佔總方差的比例。\n",
    "- 單位： 無單位 (標準化比例)。\n",
    "- 度量： 相對度量，衡量模型相對於「只猜平均值」這個基準模型的改善程度。\n",
    "- 值域： usually $0 \\le R^2 \\le 1$ (越高越好)。用途： 衡量模型的整體擬合優度 (Goodness of Fit)。"
   ]
  },
  {
   "cell_type": "code",
   "execution_count": 1,
   "id": "b1b2186b",
   "metadata": {},
   "outputs": [],
   "source": [
    "import numpy as np\n",
    "from sklearn.metrics import mean_squared_error, r2_score\n",
    "import math \n",
    "import pandas as pd "
   ]
  },
  {
   "cell_type": "code",
   "execution_count": 2,
   "id": "82c908ef",
   "metadata": {},
   "outputs": [
    {
     "name": "stdout",
     "output_type": "stream",
     "text": [
      "--- 原始數據 ---\n",
      "   真實值 (y_true)  模型 A 預測 (y_pred_A)  模型 B 預測 (y_pred_B)\n",
      "0            10                  11                  10\n",
      "1            20                  19                  19\n",
      "2            30                  32                  31\n",
      "3            40                  38                  40\n",
      "--------------------\n"
     ]
    }
   ],
   "source": [
    "# 真實值 (Actual Values)\n",
    "y_true = np.array([10, 20, 30, 40])\n",
    "\n",
    "# 模型 A 的預測 (Model A Predictions)\n",
    "y_pred_A = np.array([11, 19, 32, 38])\n",
    "\n",
    "# 模型 B 的預測 (Model B Predictions)\n",
    "y_pred_B = np.array([10, 19, 31, 40])\n",
    "\n",
    "# 創建一個 DataFrame 來總結數據，便於查看\n",
    "data = {\n",
    "    '真實值 (y_true)': y_true,\n",
    "    '模型 A 預測 (y_pred_A)': y_pred_A,\n",
    "    '模型 B 預測 (y_pred_B)': y_pred_B\n",
    "}\n",
    "df = pd.DataFrame(data)\n",
    "print(\"--- 原始數據 ---\")\n",
    "print(df)\n",
    "print(\"-\" * 20)"
   ]
  },
  {
   "cell_type": "code",
   "execution_count": 3,
   "id": "dc806b1a",
   "metadata": {},
   "outputs": [
    {
     "name": "stdout",
     "output_type": "stream",
     "text": [
      "\n",
      "===== 評估 模型 A =====\n",
      "1. MSE (均方誤差): 2.500\n",
      "2. RMSE (均方根誤差): 1.581\n",
      "3. R^2 (決定係數): 0.980\n",
      "\n",
      "===== 評估 模型 B =====\n",
      "1. MSE (均方誤差): 0.500\n",
      "2. RMSE (均方根誤差): 0.707\n",
      "3. R^2 (決定係數): 0.996\n",
      "\n",
      "========================================\n",
      "             ** 總結比較 **\n",
      "========================================\n",
      "     模型  MSE      RMSE    R^2\n",
      "0  模型 A  2.5  1.581139  0.980\n",
      "1  模型 B  0.5  0.707107  0.996\n"
     ]
    }
   ],
   "source": [
    "# --------------------\n",
    "# 函數：計算所有指標\n",
    "# --------------------\n",
    "def evaluate_model(y_true, y_pred, model_name):\n",
    "    print(f\"\\n===== 評估 {model_name} =====\")\n",
    "    \n",
    "    # --- 1. 計算 MSE (均方誤差) ---\n",
    "    # scikit-learn 的 mean_squared_error 默認 squared=True\n",
    "    mse = mean_squared_error(y_true, y_pred)\n",
    "    print(f\"1. MSE (均方誤差): {mse:.3f}\")\n",
    "    \n",
    "    # --- 2. 計算 RMSE (均方根誤差) ---\n",
    "    # 方法一：手動開根號\n",
    "    rmse_manual = np.sqrt(mse)\n",
    "    # 方法二：使用 scikit-learn (在較新版本中可以直接設定 squared=False)\n",
    "    # rmse_sklearn = mean_squared_error(y_true, y_pred, squared=False) \n",
    "    print(f\"2. RMSE (均方根誤差): {rmse_manual:.3f}\")\n",
    "    \n",
    "    # --- 3. 計算 R^2 (決定係數) ---\n",
    "    r2 = r2_score(y_true, y_pred)\n",
    "    print(f\"3. R^2 (決定係數): {r2:.3f}\")\n",
    "    \n",
    "    return [model_name, mse, rmse_manual, r2]\n",
    "\n",
    "# --------------------\n",
    "# 執行評估\n",
    "# --------------------\n",
    "results = []\n",
    "results.append(evaluate_model(y_true, y_pred_A, \"模型 A\"))\n",
    "results.append(evaluate_model(y_true, y_pred_B, \"模型 B\"))\n",
    "\n",
    "# --------------------\n",
    "# 總結比較\n",
    "# --------------------\n",
    "results_df = pd.DataFrame(results, columns=['模型', 'MSE', 'RMSE', 'R^2'])\n",
    "print(\"\\n\" + \"=\"*40)\n",
    "print(\"             ** 總結比較 **\")\n",
    "print(\"=\"*40)\n",
    "print(results_df)"
   ]
  },
  {
   "cell_type": "markdown",
   "id": "d65d475b",
   "metadata": {},
   "source": [
    "- MSE：模型 B 的平方誤差平均值遠小於 A。\n",
    "- RMSE：模型 B 的平均誤差約為 0.707，比 A 的 1.581 更接近真實值。單位與原始數據一致，最直觀。\n",
    "- R2：模型 B 解釋了 99.6% 的數據方差，模型擬合程度極高，優於 A。"
   ]
  }
 ],
 "metadata": {
  "kernelspec": {
   "display_name": "base",
   "language": "python",
   "name": "python3"
  },
  "language_info": {
   "codemirror_mode": {
    "name": "ipython",
    "version": 3
   },
   "file_extension": ".py",
   "mimetype": "text/x-python",
   "name": "python",
   "nbconvert_exporter": "python",
   "pygments_lexer": "ipython3",
   "version": "3.13.5"
  }
 },
 "nbformat": 4,
 "nbformat_minor": 5
}
