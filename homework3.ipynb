{
 "cells": [
  {
   "cell_type": "markdown",
   "id": "f8c8377c",
   "metadata": {},
   "source": [
    "1. 均方誤差 (MSE, Mean Squared Error)\n",
    "- 公式： $MSE = \\frac{1}{n}\\sum(y - \\hat{y})^2$  \n",
    "- 定義： 誤差平方的平均值。  \n",
    "- 單位： $單位^2$。  \n",
    "- 懲罰： 強烈懲罰較大的錯誤 (Outliers)。  \n",
    "- 用途： 常用作模型訓練時的損失函數 (Loss Function)。  \n",
    "- 理想值： 越小越好 (最佳為 0)。  \n",
    "\n",
    "2. 均方根誤差 (RMSE, Root Mean Squared Error)\n",
    "公式： $RMSE = \\sqrt{MSE} = \\sqrt{\\frac{1}{n}\\sum(y - \\hat{y})^2}$\n",
    "定義： $MSE$ 的平方根。特性：單位： 與 $y$ 單位相同 (最易於解釋)。\n",
    "懲罰： 懲罰較大的錯誤，但比 $MSE$ 緩和。\n",
    "用途： 常用於最終報告，提供直觀的「平均誤差」大小。\n",
    "理想值： 越小越好 (最佳為 0)。\n",
    "\n",
    "3. 決定係數 ($R^2$, R-squared)\n",
    "公式： $R^2 = 1 - \\frac{\\sum(y - \\hat{y})^2}{\\sum(y - \\bar{y})^2}$\n",
    "定義： 模型解釋的方差佔總方差的比例。\n",
    "單位： 無單位 (標準化比例)。\n",
    "度量： 相對度量，衡量模型相對於「只猜平均值」這個基準模型的改善程度。\n",
    "值域： usually $0 \\le R^2 \\le 1$ (越高越好)。用途： 衡量模型的整體擬合優度 (Goodness of Fit)。"
   ]
  }
 ],
 "metadata": {
  "language_info": {
   "name": "python"
  }
 },
 "nbformat": 4,
 "nbformat_minor": 5
}
