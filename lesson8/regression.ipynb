{
 "cells": [
  {
   "cell_type": "code",
   "execution_count": 1,
   "id": "aa206979",
   "metadata": {},
   "outputs": [],
   "source": [
    "from sklearn.datasets import fetch_california_housing\n",
    "from sklearn.linear_model import LinearRegression\n",
    "from sklearn.model_selection import train_test_split"
   ]
  },
  {
   "cell_type": "code",
   "execution_count": 7,
   "id": "172a07b6",
   "metadata": {},
   "outputs": [
    {
     "name": "stdout",
     "output_type": "stream",
     "text": [
      "(20640, 8)\n",
      "2\n"
     ]
    }
   ],
   "source": [
    "# 載入加州房價資料集\n",
    "housing = fetch_california_housing()\n",
    "print(housing['data'].shape)\n",
    "print(housing['data'].ndim)\n",
    "# housing['target']"
   ]
  },
  {
   "cell_type": "code",
   "execution_count": 20,
   "id": "77a18156",
   "metadata": {},
   "outputs": [
    {
     "data": {
      "text/plain": [
       "0      4.526\n",
       "1      3.585\n",
       "2      3.521\n",
       "3      3.413\n",
       "4      3.422\n",
       "       ...  \n",
       "195    1.150\n",
       "196    0.950\n",
       "197    0.964\n",
       "198    0.720\n",
       "199    0.713\n",
       "Length: 200, dtype: float64"
      ]
     },
     "execution_count": 20,
     "metadata": {},
     "output_type": "execute_result"
    }
   ],
   "source": [
    "import pandas as pd\n",
    "\n",
    "# 轉成 DataFrame，使用 feature_names 作為欄位，並加入 target（MedHouseVal）\n",
    "df = pd.DataFrame(housing['data'], columns=housing['feature_names'])\n",
    "df[housing['target_names'][0]] = housing['target']\n",
    "df.head()\n",
    "\n",
    "pd.DataFrame(housing['data'][:200])\n",
    "pd.Series(housing['target'][:200])"
   ]
  },
  {
   "cell_type": "code",
   "execution_count": 19,
   "id": "cd9444fe",
   "metadata": {},
   "outputs": [
    {
     "data": {
      "text/plain": [
       "array([[   8.3252    ,   41.        ,    6.98412698, ...,    2.55555556,\n",
       "          37.88      , -122.23      ],\n",
       "       [   8.3014    ,   21.        ,    6.23813708, ...,    2.10984183,\n",
       "          37.86      , -122.22      ],\n",
       "       [   7.2574    ,   52.        ,    8.28813559, ...,    2.80225989,\n",
       "          37.85      , -122.24      ],\n",
       "       ...,\n",
       "       [   2.59      ,   52.        ,    4.38996139, ...,    3.34362934,\n",
       "          37.77      , -122.22      ],\n",
       "       [   2.57      ,   52.        ,    4.20218579, ...,    3.3442623 ,\n",
       "          37.77      , -122.23      ],\n",
       "       [   2.6429    ,   52.        ,    3.74603175, ...,    3.29365079,\n",
       "          37.78      , -122.23      ]], shape=(200, 8))"
      ]
     },
     "execution_count": 19,
     "metadata": {},
     "output_type": "execute_result"
    }
   ],
   "source": [
    "housing['data'][:200]"
   ]
  }
 ],
 "metadata": {
  "kernelspec": {
   "display_name": "python_web_2025",
   "language": "python",
   "name": "python3"
  },
  "language_info": {
   "codemirror_mode": {
    "name": "ipython",
    "version": 3
   },
   "file_extension": ".py",
   "mimetype": "text/x-python",
   "name": "python",
   "nbconvert_exporter": "python",
   "pygments_lexer": "ipython3",
   "version": "3.10.18"
  }
 },
 "nbformat": 4,
 "nbformat_minor": 5
}
